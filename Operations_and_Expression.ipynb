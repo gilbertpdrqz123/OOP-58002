{
  "nbformat": 4,
  "nbformat_minor": 0,
  "metadata": {
    "colab": {
      "name": "Operations and Expression.ipynb",
      "provenance": [],
      "authorship_tag": "ABX9TyO209d1bcI9hNhvO7dWGEd0",
      "include_colab_link": true
    },
    "kernelspec": {
      "name": "python3",
      "display_name": "Python 3"
    },
    "language_info": {
      "name": "python"
    }
  },
  "cells": [
    {
      "cell_type": "markdown",
      "metadata": {
        "id": "view-in-github",
        "colab_type": "text"
      },
      "source": [
        "<a href=\"https://colab.research.google.com/github/gilbertpdrqz123/OOP-58002/blob/main/Operations_and_Expression.ipynb\" target=\"_parent\"><img src=\"https://colab.research.google.com/assets/colab-badge.svg\" alt=\"Open In Colab\"/></a>"
      ]
    },
    {
      "cell_type": "code",
      "execution_count": 82,
      "metadata": {
        "colab": {
          "base_uri": "https://localhost:8080/"
        },
        "id": "dAALdSB-Fmby",
        "outputId": "90491d86-a4d9-4931-d3ad-2fe694f1bcaa"
      },
      "outputs": [
        {
          "output_type": "stream",
          "name": "stdout",
          "text": [
            "True\n",
            "False\n",
            "True\n"
          ]
        }
      ],
      "source": [
        "a=7\n",
        "b=6\n",
        "\n",
        "print(10>9)\n",
        "print(10<9)\n",
        "print(a > b)"
      ]
    },
    {
      "cell_type": "code",
      "source": [
        ""
      ],
      "metadata": {
        "id": "1v28BpTdKIm1"
      },
      "execution_count": null,
      "outputs": []
    },
    {
      "cell_type": "code",
      "source": [
        "print(bool(\"Maria\"))\n",
        "print(bool(1))\n",
        "print(bool(0))\n",
        "print(bool(None))\n",
        "print(bool(False))\n",
        "print(bool(True))"
      ],
      "metadata": {
        "colab": {
          "base_uri": "https://localhost:8080/"
        },
        "id": "ay-jrr-PF_q5",
        "outputId": "43db26ce-e069-4468-9c9b-4c7fa2ca59e8"
      },
      "execution_count": 11,
      "outputs": [
        {
          "output_type": "stream",
          "name": "stdout",
          "text": [
            "True\n",
            "True\n",
            "False\n",
            "False\n",
            "False\n",
            "True\n"
          ]
        }
      ]
    },
    {
      "cell_type": "markdown",
      "source": [
        "Functions can return a BOolean"
      ],
      "metadata": {
        "id": "wO0FhyREFqZo"
      }
    },
    {
      "cell_type": "code",
      "source": [
        "def my_Function():\n",
        "  return False\n",
        "\n",
        "print(my_Function())"
      ],
      "metadata": {
        "colab": {
          "base_uri": "https://localhost:8080/"
        },
        "id": "1WPz2GqoFuI7",
        "outputId": "db64de79-2b33-4a3b-d7af-f959ee62a446"
      },
      "execution_count": 30,
      "outputs": [
        {
          "output_type": "stream",
          "name": "stdout",
          "text": [
            "False\n"
          ]
        }
      ]
    },
    {
      "cell_type": "markdown",
      "source": [
        ""
      ],
      "metadata": {
        "id": "fl5xfqAGGWjF"
      }
    },
    {
      "cell_type": "code",
      "source": [
        "if my_Function():\n",
        "  print(\"True\")\n",
        "else:\n",
        "  print(\"False\")"
      ],
      "metadata": {
        "colab": {
          "base_uri": "https://localhost:8080/"
        },
        "id": "g7xlWX_FGUl5",
        "outputId": "b3144fc8-964b-42cb-cb4d-df4807a60652"
      },
      "execution_count": 28,
      "outputs": [
        {
          "output_type": "stream",
          "name": "stdout",
          "text": [
            "False\n"
          ]
        }
      ]
    },
    {
      "cell_type": "markdown",
      "source": [
        "Application 1"
      ],
      "metadata": {
        "id": "PiWvp5Y8KLHh"
      }
    },
    {
      "cell_type": "code",
      "source": [
        "print (10>9)\n",
        "a=6\n",
        "b=7\n",
        "\n",
        "print(a==b)\n",
        "print(a!=a)"
      ],
      "metadata": {
        "colab": {
          "base_uri": "https://localhost:8080/"
        },
        "id": "52o4rXWaKKC4",
        "outputId": "8706c639-e69a-4bbf-bbd0-5be845bbe461"
      },
      "execution_count": 41,
      "outputs": [
        {
          "output_type": "stream",
          "name": "stdout",
          "text": [
            "True\n",
            "False\n",
            "False\n"
          ]
        }
      ]
    },
    {
      "cell_type": "markdown",
      "source": [
        "Phyton Operators"
      ],
      "metadata": {
        "id": "eLPACq8xL-hv"
      }
    },
    {
      "cell_type": "code",
      "source": [
        "print(10+5)\n",
        "print(10-5)\n",
        "print(10/3)\n",
        "print(10*5)\n",
        "print(10%5)\n",
        "print(10//3)\n",
        "print(10**2)"
      ],
      "metadata": {
        "colab": {
          "base_uri": "https://localhost:8080/"
        },
        "id": "nCqkbhuKL4xy",
        "outputId": "8d16d0d3-625c-4551-be90-922cc3c8290b"
      },
      "execution_count": 49,
      "outputs": [
        {
          "output_type": "stream",
          "name": "stdout",
          "text": [
            "15\n",
            "5\n",
            "3.3333333333333335\n",
            "50\n",
            "0\n",
            "3\n",
            "100\n"
          ]
        }
      ]
    },
    {
      "cell_type": "code",
      "source": [
        ""
      ],
      "metadata": {
        "id": "3a85HddiPsxo"
      },
      "execution_count": null,
      "outputs": []
    },
    {
      "cell_type": "markdown",
      "source": [
        "Bitwise operators"
      ],
      "metadata": {
        "id": "8PutXqqMNmf1"
      }
    },
    {
      "cell_type": "code",
      "source": [
        "c = 60\n",
        "d = 13\n",
        "\n",
        "c&d\n",
        "print(c|d)\n",
        "print(c^d)\n",
        "print(d<<2)"
      ],
      "metadata": {
        "colab": {
          "base_uri": "https://localhost:8080/"
        },
        "id": "rHArY4T7Mac-",
        "outputId": "ac76c941-06cd-408b-fb6a-0048f3fb95a2"
      },
      "execution_count": 57,
      "outputs": [
        {
          "output_type": "stream",
          "name": "stdout",
          "text": [
            "61\n",
            "49\n",
            "52\n"
          ]
        }
      ]
    },
    {
      "cell_type": "markdown",
      "source": [
        "Logical Operators"
      ],
      "metadata": {
        "id": "FImJWL6cPqEy"
      }
    },
    {
      "cell_type": "code",
      "source": [
        "h = True\n",
        "l = False\n",
        "h and l\n",
        "h or l\n",
        "not(h or l)"
      ],
      "metadata": {
        "colab": {
          "base_uri": "https://localhost:8080/"
        },
        "id": "sStWTSRBPusn",
        "outputId": "82340c92-b6ae-48ea-a854-366004467a60"
      },
      "execution_count": 56,
      "outputs": [
        {
          "output_type": "execute_result",
          "data": {
            "text/plain": [
              "False"
            ]
          },
          "metadata": {},
          "execution_count": 56
        }
      ]
    },
    {
      "cell_type": "markdown",
      "source": [
        "Application 2"
      ],
      "metadata": {
        "id": "qxp-UzLBQRPu"
      }
    },
    {
      "cell_type": "code",
      "source": [
        "#Phyton Assignment Opperators\n",
        "x+=3 #same as x = x + 3\n",
        "x-=3 #same as x = x - 3\n",
        "x*=3 #same as x = x * 3\n",
        "x/=3 #same as x = x / 3\n",
        "x%=3 #same as x = x % 3\n"
      ],
      "metadata": {
        "id": "Jahfr2LiQSgU"
      },
      "execution_count": 73,
      "outputs": []
    },
    {
      "cell_type": "markdown",
      "source": [
        "Identity Operators"
      ],
      "metadata": {
        "id": "F6nuyuJnTA4w"
      }
    },
    {
      "cell_type": "code",
      "source": [
        "h is l\n",
        "h is not l\n",
        "\n"
      ],
      "metadata": {
        "colab": {
          "base_uri": "https://localhost:8080/"
        },
        "id": "aofNVi9URNCD",
        "outputId": "a22f98c0-315d-4f6d-fcde-076e24fbf760"
      },
      "execution_count": 74,
      "outputs": [
        {
          "output_type": "execute_result",
          "data": {
            "text/plain": [
              "True"
            ]
          },
          "metadata": {},
          "execution_count": 74
        }
      ]
    },
    {
      "cell_type": "markdown",
      "source": [
        "#Control Structure\n"
      ],
      "metadata": {
        "id": "Zl8YxojBTOeI"
      }
    },
    {
      "cell_type": "markdown",
      "source": [
        "if statement"
      ],
      "metadata": {
        "id": "cUR6fXVuTT2r"
      }
    },
    {
      "cell_type": "code",
      "source": [
        "if a>b:\n",
        "  print(\"a is greater than b\")\n",
        "\n",
        "\n"
      ],
      "metadata": {
        "colab": {
          "base_uri": "https://localhost:8080/"
        },
        "id": "NDs_3_mZTnkW",
        "outputId": "3446ed86-3642-4b4b-ec3d-fa338e580633"
      },
      "execution_count": 157,
      "outputs": [
        {
          "output_type": "stream",
          "name": "stdout",
          "text": [
            "a is greater than b\n"
          ]
        }
      ]
    },
    {
      "cell_type": "markdown",
      "source": [
        "Elif Statement"
      ],
      "metadata": {
        "id": "SXnTp_OXUSjg"
      }
    },
    {
      "cell_type": "code",
      "source": [
        "if a<b:\n",
        "  print(\"a is less than b\")\n",
        "elif a>b:\n",
        "  print(\"a is greater than b\")\n",
        "\n",
        "\n"
      ],
      "metadata": {
        "colab": {
          "base_uri": "https://localhost:8080/"
        },
        "id": "ciiEaTj8UVHr",
        "outputId": "6bb04580-ccd5-4714-d37b-cd7f7c955fe1"
      },
      "execution_count": 158,
      "outputs": [
        {
          "output_type": "stream",
          "name": "stdout",
          "text": [
            "a is greater than b\n"
          ]
        }
      ]
    },
    {
      "cell_type": "markdown",
      "source": [
        "Else Statement"
      ],
      "metadata": {
        "id": "0UhjJr1_Uwwx"
      }
    },
    {
      "cell_type": "code",
      "source": [
        "a=10\n",
        "b=10\n",
        "\n",
        "if a<b:\n",
        "  print(\"a is less than b\")\n",
        "elif a>b:\n",
        "  print(\"a is greater than b\")\n",
        "else:\n",
        "  print(\"a is equal to b\")"
      ],
      "metadata": {
        "colab": {
          "base_uri": "https://localhost:8080/"
        },
        "id": "bx0kKVBPW0TL",
        "outputId": "ca4ec9e8-6b28-4d51-8073-fd32e5016cf7"
      },
      "execution_count": 159,
      "outputs": [
        {
          "output_type": "stream",
          "name": "stdout",
          "text": [
            "a is equal to b\n"
          ]
        }
      ]
    },
    {
      "cell_type": "markdown",
      "source": [
        "Short Hand If Statement"
      ],
      "metadata": {
        "id": "LL0_luobVAIT"
      }
    },
    {
      "cell_type": "markdown",
      "source": [
        "\n"
      ],
      "metadata": {
        "id": "0cbm4Sw4VDq_"
      }
    },
    {
      "cell_type": "code",
      "source": [
        "if a==b:print(\"a is equal to b\")"
      ],
      "metadata": {
        "colab": {
          "base_uri": "https://localhost:8080/"
        },
        "id": "bCwVIKbtVIGW",
        "outputId": "960abc8c-eb19-46d7-c930-599d8692a22e"
      },
      "execution_count": 95,
      "outputs": [
        {
          "output_type": "stream",
          "name": "stdout",
          "text": [
            "a is equal to b\n"
          ]
        }
      ]
    },
    {
      "cell_type": "markdown",
      "source": [
        "Short Hand If...Else Statement"
      ],
      "metadata": {
        "id": "r9ILf1FNV0bG"
      }
    },
    {
      "cell_type": "code",
      "source": [
        "a = 9\n",
        "b = 6\n",
        "print(\"a is greaten than b\") if a>b else print('b is greatern than a')"
      ],
      "metadata": {
        "colab": {
          "base_uri": "https://localhost:8080/"
        },
        "id": "7Vb0f6vOV4Px",
        "outputId": "fd2e2113-35dd-4995-ef6c-3f14dc90e5c9"
      },
      "execution_count": 163,
      "outputs": [
        {
          "output_type": "stream",
          "name": "stdout",
          "text": [
            "a is greaten than b\n"
          ]
        }
      ]
    },
    {
      "cell_type": "markdown",
      "source": [
        "and"
      ],
      "metadata": {
        "id": "SHsytqg_W5iq"
      }
    },
    {
      "cell_type": "code",
      "source": [
        "if a>b and a==b:\n",
        "  print(\"both condition are True\")"
      ],
      "metadata": {
        "id": "BiOhvsflW6Mj"
      },
      "execution_count": 164,
      "outputs": []
    },
    {
      "cell_type": "markdown",
      "source": [
        "Or"
      ],
      "metadata": {
        "id": "ZVgDzX5XXczL"
      }
    },
    {
      "cell_type": "code",
      "source": [
        "if a<b or a==b:\n",
        "  print(\"both condition are True\")"
      ],
      "metadata": {
        "colab": {
          "base_uri": "https://localhost:8080/"
        },
        "id": "-Is-c7d_Xdd3",
        "outputId": "940709d2-f627-4765-c789-c3ae6934156b"
      },
      "execution_count": 151,
      "outputs": [
        {
          "output_type": "stream",
          "name": "stdout",
          "text": [
            "both condition are True\n"
          ]
        }
      ]
    },
    {
      "cell_type": "markdown",
      "source": [
        "Nested If\n"
      ],
      "metadata": {
        "id": "qx1NUmrGX97N"
      }
    },
    {
      "cell_type": "code",
      "source": [
        "x =int(input())\n",
        "\n",
        "if x>10:\n",
        "  print(\"x is above 10\")\n",
        "  if x>20:\n",
        "    print(\"and also above 20\")\n",
        "    if x>30:\n",
        "      print(\"and also above 30\")\n",
        "      if x>40:\n",
        "        print(\"and also above 40\")\n",
        "        if x>50:\n",
        "          print(\"and also above 50\")\n",
        "        else:\n",
        "          print(\"but not above 50\")"
      ],
      "metadata": {
        "colab": {
          "base_uri": "https://localhost:8080/"
        },
        "id": "EslxKF6DYFMt",
        "outputId": "adc50c90-5a00-4e05-b4d3-d591670758d9"
      },
      "execution_count": 170,
      "outputs": [
        {
          "output_type": "stream",
          "name": "stdout",
          "text": [
            "48\n",
            "x is above 10\n",
            "and also above 20\n",
            "and also above 30\n",
            "and also above 40\n",
            "but not above 50\n"
          ]
        }
      ]
    },
    {
      "cell_type": "markdown",
      "source": [
        "#Loop Statement"
      ],
      "metadata": {
        "id": "6Hv3JCo7Z-7z"
      }
    },
    {
      "cell_type": "markdown",
      "source": [
        "For Loop"
      ],
      "metadata": {
        "id": "g1c9Jz0vaq0o"
      }
    },
    {
      "cell_type": "code",
      "source": [
        "week=['Sunday', \"Monday\", 'Tuesday', \"Wednesday\", \"Thursday\", \"Friday\", \"Saturday\",]\n",
        "\n",
        "for x in week:\n",
        "  print(x)"
      ],
      "metadata": {
        "colab": {
          "base_uri": "https://localhost:8080/"
        },
        "id": "B9QYpxmMaDbw",
        "outputId": "522ab330-2f69-42a6-fb02-aa5fe2580a8d"
      },
      "execution_count": 171,
      "outputs": [
        {
          "output_type": "stream",
          "name": "stdout",
          "text": [
            "Sunday\n",
            "Monday\n",
            "Tuesday\n",
            "Wednesday\n",
            "Thursday\n",
            "Friday\n",
            "Saturday\n"
          ]
        }
      ]
    },
    {
      "cell_type": "markdown",
      "source": [
        "Break Statement"
      ],
      "metadata": {
        "id": "MIpR3I8ZbVxr"
      }
    },
    {
      "cell_type": "code",
      "source": [
        "#to display Sunday to Wednesday using For Loop\n",
        "for x in week:\n",
        "  print(x)\n",
        "  if x==\"Wednesday\":\n",
        "    break\n"
      ],
      "metadata": {
        "colab": {
          "base_uri": "https://localhost:8080/"
        },
        "id": "apN-4_UibHVR",
        "outputId": "94923720-3cfe-4745-eec7-c354007b2d56"
      },
      "execution_count": 176,
      "outputs": [
        {
          "output_type": "stream",
          "name": "stdout",
          "text": [
            "Sunday\n",
            "Monday\n",
            "Tuesday\n",
            "Wednesday\n",
            "Wednesday\n"
          ]
        }
      ]
    },
    {
      "cell_type": "code",
      "source": [
        "#to display only Wednesday using break statement\n",
        "\n",
        "for x in week:\n",
        "  if x==\"Wednesday\":\n",
        "    break\n",
        "print(x)"
      ],
      "metadata": {
        "colab": {
          "base_uri": "https://localhost:8080/"
        },
        "id": "My54Ie-Hcqpc",
        "outputId": "430471d2-ca1f-46b6-c06c-48582d2331e7"
      },
      "execution_count": 179,
      "outputs": [
        {
          "output_type": "stream",
          "name": "stdout",
          "text": [
            "Wednesday\n"
          ]
        }
      ]
    },
    {
      "cell_type": "markdown",
      "source": [
        "While Statement"
      ],
      "metadata": {
        "id": "Qpq9yhp8czvV"
      }
    },
    {
      "cell_type": "code",
      "source": [
        "i=1\n",
        "while i<6:\n",
        "  print(i)\n",
        "  i+=1"
      ],
      "metadata": {
        "colab": {
          "base_uri": "https://localhost:8080/"
        },
        "id": "dwtiHqPVc1Nh",
        "outputId": "96766ca5-3b5f-4772-f161-babc86244ab1"
      },
      "execution_count": 180,
      "outputs": [
        {
          "output_type": "stream",
          "name": "stdout",
          "text": [
            "1\n",
            "2\n",
            "3\n",
            "4\n",
            "5\n"
          ]
        }
      ]
    },
    {
      "cell_type": "markdown",
      "source": [
        "Application 3- Create a python program that displays no.3 using break statement"
      ],
      "metadata": {
        "id": "cVwq6r61dYX_"
      }
    },
    {
      "cell_type": "code",
      "source": [
        "i=1\n",
        "while i<6:\n",
        "  if i==3:  \n",
        "    break\n",
        "  i+=1\n",
        "    \n",
        "print(i)    "
      ],
      "metadata": {
        "colab": {
          "base_uri": "https://localhost:8080/"
        },
        "id": "WXkJhEcadsip",
        "outputId": "16ee8a0f-2e79-4025-c6cb-e1046b114191"
      },
      "execution_count": 201,
      "outputs": [
        {
          "output_type": "stream",
          "name": "stdout",
          "text": [
            "3\n"
          ]
        }
      ]
    }
  ]
}