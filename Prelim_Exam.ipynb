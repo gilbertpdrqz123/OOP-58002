{
  "nbformat": 4,
  "nbformat_minor": 0,
  "metadata": {
    "colab": {
      "name": "Prelim Exam.ipynb",
      "provenance": [],
      "authorship_tag": "ABX9TyMjlIPvGZ0Ej4y9xbkGpa6Q",
      "include_colab_link": true
    },
    "kernelspec": {
      "name": "python3",
      "display_name": "Python 3"
    },
    "language_info": {
      "name": "python"
    }
  },
  "cells": [
    {
      "cell_type": "markdown",
      "metadata": {
        "id": "view-in-github",
        "colab_type": "text"
      },
      "source": [
        "<a href=\"https://colab.research.google.com/github/gilbertpdrqz123/OOP-58002/blob/main/Prelim_Exam.ipynb\" target=\"_parent\"><img src=\"https://colab.research.google.com/assets/colab-badge.svg\" alt=\"Open In Colab\"/></a>"
      ]
    },
    {
      "cell_type": "markdown",
      "source": [
        "Preliminary Exam in Python"
      ],
      "metadata": {
        "id": "KwIxFAEpKEY_"
      }
    },
    {
      "cell_type": "code",
      "source": [
        "class Student:\n",
        "    def __init__(self, Name, Student_No, Age, School, Course):\n",
        "      self.Name = Name\n",
        "      self.Student_No = Student_No\n",
        "      self.Age = Age\n",
        "      self.School = School\n",
        "      self.Course = Course\n",
        "\n",
        "    def Self(self):\n",
        "      return \"Hello my name is\", self.Name, \"My student no is:\", self.Student_No, \"my age is\", self.Age, \"I' am currently studying at\", self.School, \"and I'am studying\", self.Course\n",
        "            \n",
        "\n",
        "    def display(self):\n",
        "      print(\"Hello my name is\", self.Name)\n",
        "      print(\"My student no is:\", self.Student_No)\n",
        "      print(\"I'am\", self.Age)\n",
        "      print(\"I'm currently studying at\", self.School)\n",
        "      print(\"and I'am taking\", self.Course )\n",
        "      print(\"or\")\n",
        "      print(\"Hello my name is\", self.Name, \"my student no is:\", self.Student_No, \"I' am\", self.Age, \"I' am currently studying at\", self.School, \"and I'm taking\", self.Course)\n",
        "     \n",
        "\n",
        "\n",
        "\n",
        "\n",
        "myself = Student(\"Gilbert Juluis Padriquez\", \"202119209\", \"18\", \"Adamson Universirty\", \"B.S in Computer Engineering\" )\n",
        "myself.display()"
      ],
      "metadata": {
        "colab": {
          "base_uri": "https://localhost:8080/"
        },
        "id": "edfCyflFNq15",
        "outputId": "3833f0b4-c5f4-4f4c-e67e-6925ec8eb8b6"
      },
      "execution_count": 32,
      "outputs": [
        {
          "output_type": "stream",
          "name": "stdout",
          "text": [
            "Hello my name is Gilbert Juluis Padriquez\n",
            "My student no is: 202119209\n",
            "I'am 18\n",
            "I'm currently studying at Adamson Universirty\n",
            "and I'am taking B.S in Computer Engineering\n",
            "or\n",
            "Hello my name is Gilbert Juluis Padriquez my student no is: 202119209 I' am 18 I' am currently studying at Adamson Universirty and I'm taking B.S in Computer Engineering\n"
          ]
        }
      ]
    }
  ]
}