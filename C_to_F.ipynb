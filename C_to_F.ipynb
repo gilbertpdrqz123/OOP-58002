{
  "nbformat": 4,
  "nbformat_minor": 0,
  "metadata": {
    "colab": {
      "name": "C to F.ipynb",
      "provenance": [],
      "authorship_tag": "ABX9TyOPpdk5vc81mPAYzKePtauN",
      "include_colab_link": true
    },
    "kernelspec": {
      "name": "python3",
      "display_name": "Python 3"
    },
    "language_info": {
      "name": "python"
    }
  },
  "cells": [
    {
      "cell_type": "markdown",
      "metadata": {
        "id": "view-in-github",
        "colab_type": "text"
      },
      "source": [
        "<a href=\"https://colab.research.google.com/github/gilbertpdrqz123/OOP-58002/blob/main/C_to_F.ipynb\" target=\"_parent\"><img src=\"https://colab.research.google.com/assets/colab-badge.svg\" alt=\"Open In Colab\"/></a>"
      ]
    },
    {
      "cell_type": "code",
      "execution_count": 12,
      "metadata": {
        "colab": {
          "base_uri": "https://localhost:8080/"
        },
        "id": "-o7j8pyPGbHo",
        "outputId": "0c5f77d3-1a0c-455e-a43f-45867692a589"
      },
      "outputs": [
        {
          "output_type": "stream",
          "name": "stdout",
          "text": [
            "Converter 2.0\n",
            "Please input an degree celcius:21121\n",
            "The total of celcius that is converted to Farenheit is: 38049.8 °F\n"
          ]
        }
      ],
      "source": [
        "class Temperature:\n",
        "  def __init__(self,celcius):\n",
        "    self.celcius = celcius\n",
        "  def fahrenheit(self):\n",
        "    return float(celcius)*1.8 + 32\n",
        "  def display(self):\n",
        "    print(\"The total of celcius that is converted to Farenheit is:\", self.fahrenheit(),'°F')\n",
        "\n",
        "print(\"Converter 2.0\")    \n",
        "celcius = float(input('Please input an degree celcius:'))\n",
        "temp=Temperature('celcius')\n",
        "temp.display()"
      ]
    }
  ]
}