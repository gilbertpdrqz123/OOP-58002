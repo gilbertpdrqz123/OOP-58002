{
  "nbformat": 4,
  "nbformat_minor": 0,
  "metadata": {
    "colab": {
      "name": "HAHAHAHipynb",
      "provenance": [],
      "authorship_tag": "ABX9TyNYpL5EVMxozrLs1Q001qH+",
      "include_colab_link": true
    },
    "kernelspec": {
      "name": "python3",
      "display_name": "Python 3"
    },
    "language_info": {
      "name": "python"
    }
  },
  "cells": [
    {
      "cell_type": "markdown",
      "metadata": {
        "id": "view-in-github",
        "colab_type": "text"
      },
      "source": [
        "<a href=\"https://colab.research.google.com/github/gilbertpdrqz123/OOP-58002/blob/main/HAHAHAHipynb.ipynb\" target=\"_parent\"><img src=\"https://colab.research.google.com/assets/colab-badge.svg\" alt=\"Open In Colab\"/></a>"
      ]
    },
    {
      "cell_type": "markdown",
      "source": [
        "Create a Python program that displays the grade of a student"
      ],
      "metadata": {
        "id": "V-vp9QbnazT4"
      }
    },
    {
      "cell_type": "code",
      "source": [
        "#@title Student's Grade in OOP\n",
        "\n",
        "Student_Name = \"'Happy'\" #@param {type:\"string\"}\n",
        "prelim_grade = 100 #@param {type:\"integer\"}\n",
        "midterm_grade =  88#@param {type:\"number\"}\n",
        "final_grade =  98#@param {type:\"number\"}\n",
        "semestral = (prelim_grade*0.30+midterm_grade*0.30+final_grade*.40)\n",
        "\n",
        "\n",
        "print(\"the semestral  grade of the student is\" + str(round((semestral),2)))\n",
        "\n",
        "Gender = \"Male\" #@param[\"Male\", \"Female\"]\n",
        "Birthdate = \"2020-03-29\" #@param{type: \"date\"} \n",
        "\n",
        "\n",
        "print(Gender)\n",
        "print(\"My birthday is \" + Birthdate)"
      ],
      "metadata": {
        "colab": {
          "base_uri": "https://localhost:8080/"
        },
        "id": "eOWJajeub2V8",
        "outputId": "8747df6f-6c88-4790-dc86-8fdde05088c7"
      },
      "execution_count": 16,
      "outputs": [
        {
          "output_type": "stream",
          "name": "stdout",
          "text": [
            "the semestral  grade of the student is95.6\n",
            "Male\n",
            "My birthday is 2020-03-29\n"
          ]
        }
      ]
    },
    {
      "cell_type": "code",
      "source": [
        ""
      ],
      "metadata": {
        "id": "FLznaMfvbjHS"
      },
      "execution_count": null,
      "outputs": []
    }
  ]
}