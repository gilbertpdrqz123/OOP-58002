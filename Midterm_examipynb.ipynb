{
  "nbformat": 4,
  "nbformat_minor": 0,
  "metadata": {
    "colab": {
      "name": "Midterm examipynb",
      "provenance": [],
      "authorship_tag": "ABX9TyMA+cdBi/ENS0rIz1zl9loZ",
      "include_colab_link": true
    },
    "kernelspec": {
      "name": "python3",
      "display_name": "Python 3"
    },
    "language_info": {
      "name": "python"
    }
  },
  "cells": [
    {
      "cell_type": "markdown",
      "metadata": {
        "id": "view-in-github",
        "colab_type": "text"
      },
      "source": [
        "<a href=\"https://colab.research.google.com/github/gilbertpdrqz123/OOP-58002/blob/main/Midterm_examipynb.ipynb\" target=\"_parent\"><img src=\"https://colab.research.google.com/assets/colab-badge.svg\" alt=\"Open In Colab\"/></a>"
      ]
    },
    {
      "cell_type": "code",
      "execution_count": 35,
      "metadata": {
        "colab": {
          "base_uri": "https://localhost:8080/",
          "height": 397
        },
        "id": "fasW7w7MZJQB",
        "outputId": "60350b4b-3760-488a-f742-809ac71396da"
      },
      "outputs": [
        {
          "output_type": "stream",
          "name": "stdout",
          "text": [
            "Enter the temperature in Celsius: 123\n",
            "396.15 Kelvin\n",
            "253.4 Fahrenheit\n"
          ]
        },
        {
          "output_type": "error",
          "ename": "TypeError",
          "evalue": "ignored",
          "traceback": [
            "\u001b[0;31m---------------------------------------------------------------------------\u001b[0m",
            "\u001b[0;31mTypeError\u001b[0m                                 Traceback (most recent call last)",
            "\u001b[0;32m<ipython-input-35-e32b50fb1e96>\u001b[0m in \u001b[0;36m<module>\u001b[0;34m()\u001b[0m\n\u001b[1;32m     37\u001b[0m  \u001b[0mconvert\u001b[0m \u001b[0;34m=\u001b[0m \u001b[0mFahrenheitToCelcius\u001b[0m\u001b[0;34m(\u001b[0m\u001b[0mtempInCelsius\u001b[0m\u001b[0;34m)\u001b[0m\u001b[0;34m\u001b[0m\u001b[0;34m\u001b[0m\u001b[0m\n\u001b[1;32m     38\u001b[0m  \u001b[0mprint\u001b[0m\u001b[0;34m(\u001b[0m\u001b[0mstr\u001b[0m\u001b[0;34m(\u001b[0m\u001b[0mconvert\u001b[0m\u001b[0;34m.\u001b[0m\u001b[0mconversion\u001b[0m\u001b[0;34m(\u001b[0m\u001b[0;34m)\u001b[0m\u001b[0;34m)\u001b[0m \u001b[0;34m+\u001b[0m \u001b[0;34m\" Celcius From Fahrenheit\"\u001b[0m\u001b[0;34m)\u001b[0m\u001b[0;34m\u001b[0m\u001b[0;34m\u001b[0m\u001b[0m\n\u001b[0;32m---> 39\u001b[0;31m \u001b[0mmain\u001b[0m\u001b[0;34m(\u001b[0m\u001b[0;34m)\u001b[0m\u001b[0;34m\u001b[0m\u001b[0;34m\u001b[0m\u001b[0m\n\u001b[0m",
            "\u001b[0;32m<ipython-input-35-e32b50fb1e96>\u001b[0m in \u001b[0;36mmain\u001b[0;34m()\u001b[0m\n\u001b[1;32m     34\u001b[0m  \u001b[0mprint\u001b[0m\u001b[0;34m(\u001b[0m\u001b[0mstr\u001b[0m\u001b[0;34m(\u001b[0m\u001b[0mconvert\u001b[0m\u001b[0;34m.\u001b[0m\u001b[0mconversion\u001b[0m\u001b[0;34m(\u001b[0m\u001b[0;34m)\u001b[0m\u001b[0;34m)\u001b[0m \u001b[0;34m+\u001b[0m \u001b[0;34m\" Fahrenheit\"\u001b[0m\u001b[0;34m)\u001b[0m\u001b[0;34m\u001b[0m\u001b[0;34m\u001b[0m\u001b[0m\n\u001b[1;32m     35\u001b[0m  \u001b[0mconvert\u001b[0m \u001b[0;34m=\u001b[0m \u001b[0mKelvinToCelcius\u001b[0m\u001b[0;34m(\u001b[0m\u001b[0mtempInCelsius\u001b[0m\u001b[0;34m)\u001b[0m\u001b[0;34m\u001b[0m\u001b[0;34m\u001b[0m\u001b[0m\n\u001b[0;32m---> 36\u001b[0;31m  \u001b[0mprint\u001b[0m\u001b[0;34m(\u001b[0m\u001b[0mstr\u001b[0m\u001b[0;34m(\u001b[0m\u001b[0mconvert\u001b[0m\u001b[0;34m.\u001b[0m\u001b[0mconversion\u001b[0m\u001b[0;34m(\u001b[0m\u001b[0;34m)\u001b[0m\u001b[0;34m)\u001b[0m \u001b[0;34m+\u001b[0m \u001b[0;34m\" Celcius from Kelvin\"\u001b[0m\u001b[0;34m)\u001b[0m\u001b[0;34m\u001b[0m\u001b[0;34m\u001b[0m\u001b[0m\n\u001b[0m\u001b[1;32m     37\u001b[0m  \u001b[0mconvert\u001b[0m \u001b[0;34m=\u001b[0m \u001b[0mFahrenheitToCelcius\u001b[0m\u001b[0;34m(\u001b[0m\u001b[0mtempInCelsius\u001b[0m\u001b[0;34m)\u001b[0m\u001b[0;34m\u001b[0m\u001b[0;34m\u001b[0m\u001b[0m\n\u001b[1;32m     38\u001b[0m  \u001b[0mprint\u001b[0m\u001b[0;34m(\u001b[0m\u001b[0mstr\u001b[0m\u001b[0;34m(\u001b[0m\u001b[0mconvert\u001b[0m\u001b[0;34m.\u001b[0m\u001b[0mconversion\u001b[0m\u001b[0;34m(\u001b[0m\u001b[0;34m)\u001b[0m\u001b[0;34m)\u001b[0m \u001b[0;34m+\u001b[0m \u001b[0;34m\" Celcius From Fahrenheit\"\u001b[0m\u001b[0;34m)\u001b[0m\u001b[0;34m\u001b[0m\u001b[0;34m\u001b[0m\u001b[0m\n",
            "\u001b[0;32m<ipython-input-35-e32b50fb1e96>\u001b[0m in \u001b[0;36mconversion\u001b[0;34m(self)\u001b[0m\n\u001b[1;32m     16\u001b[0m  \u001b[0;32mclass\u001b[0m \u001b[0mKelvinToCelcius\u001b[0m\u001b[0;34m(\u001b[0m\u001b[0mTemperatureConversion\u001b[0m\u001b[0;34m)\u001b[0m\u001b[0;34m:\u001b[0m\u001b[0;34m\u001b[0m\u001b[0;34m\u001b[0m\u001b[0m\n\u001b[1;32m     17\u001b[0m     \u001b[0;32mdef\u001b[0m \u001b[0mconversion\u001b[0m\u001b[0;34m(\u001b[0m\u001b[0mself\u001b[0m\u001b[0;34m)\u001b[0m\u001b[0;34m:\u001b[0m\u001b[0;34m\u001b[0m\u001b[0;34m\u001b[0m\u001b[0m\n\u001b[0;32m---> 18\u001b[0;31m       \u001b[0mK\u001b[0m \u001b[0;34m=\u001b[0m \u001b[0mstr\u001b[0m\u001b[0;34m(\u001b[0m\u001b[0;34m'kelvin'\u001b[0m\u001b[0;34m)\u001b[0m\u001b[0;34m-\u001b[0m \u001b[0;36m273.15\u001b[0m\u001b[0;34m\u001b[0m\u001b[0;34m\u001b[0m\u001b[0m\n\u001b[0m\u001b[1;32m     19\u001b[0m       \u001b[0;32mreturn\u001b[0m \u001b[0;34m(\u001b[0m\u001b[0mK\u001b[0m\u001b[0;34m)\u001b[0m\u001b[0;34m\u001b[0m\u001b[0;34m\u001b[0m\u001b[0m\n\u001b[1;32m     20\u001b[0m  \u001b[0;32mclass\u001b[0m \u001b[0mFahrenheitToCelcius\u001b[0m\u001b[0;34m(\u001b[0m\u001b[0mTemperatureConversion\u001b[0m\u001b[0;34m)\u001b[0m\u001b[0;34m:\u001b[0m\u001b[0;34m\u001b[0m\u001b[0;34m\u001b[0m\u001b[0m\n",
            "\u001b[0;31mTypeError\u001b[0m: unsupported operand type(s) for -: 'str' and 'float'"
          ]
        }
      ],
      "source": [
        "def main():\n",
        " class TemperatureConversion:\n",
        "   def __init__(self, temp=1):\n",
        "      self._temp = temp\n",
        " class CelsiusToFahrenheit(TemperatureConversion):\n",
        "   def conversion(self):\n",
        "     return (self._temp * 9) / 5 + 32\n",
        " class CelsiusToKelvin(TemperatureConversion):\n",
        "   def conversion(self):\n",
        "     kelvin = self._temp + 273.15\n",
        "     return (kelvin)\n",
        " class FahrenheitToCelcius(TemperatureConversion):\n",
        "    def conversion(self):\n",
        "      celsius = (self._temp - 32) * 5 / 9\n",
        "      return (celsius)\n",
        " class KelvinToCelcius(TemperatureConversion):\n",
        "    def conversion(self):\n",
        "      K = str('kelvin')- 273.15\n",
        "      return (K)\n",
        " class FahrenheitToCelcius(TemperatureConversion):\n",
        "   def conversion(self):\n",
        "      C = str((celcius) - 32) * 5 / 9\n",
        "      return (C)\n",
        "\n",
        "\n",
        "  \n",
        "\n",
        "\n",
        "\n",
        " tempInCelsius = float(input(\"Enter the temperature in Celsius: \"))\n",
        " convert = CelsiusToKelvin(tempInCelsius)\n",
        " print(str(convert.conversion()) + \" Kelvin\")\n",
        " convert = CelsiusToFahrenheit(tempInCelsius)\n",
        " print(str(convert.conversion()) + \" Fahrenheit\")\n",
        " convert = KelvinToCelcius(tempInCelsius)\n",
        " print(str(convert.conversion()) + \" Celcius from Kelvin\")\n",
        " convert = FahrenheitToCelcius(tempInCelsius)\n",
        " print(str(convert.conversion()) + \" Celcius From Fahrenheit\")\n",
        "main()"
      ]
    }
  ]
}